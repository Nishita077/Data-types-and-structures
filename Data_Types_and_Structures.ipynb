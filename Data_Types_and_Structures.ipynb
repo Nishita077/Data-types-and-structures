{
  "nbformat": 4,
  "nbformat_minor": 0,
  "metadata": {
    "colab": {
      "provenance": []
    },
    "kernelspec": {
      "name": "python3",
      "display_name": "Python 3"
    },
    "language_info": {
      "name": "python"
    }
  },
  "cells": [
    {
      "cell_type": "markdown",
      "source": [
        "#Data Types and Structures\n",
        "#Assignment(02)\n"
      ],
      "metadata": {
        "id": "VgSE3-0jEenG"
      }
    },
    {
      "cell_type": "markdown",
      "source": [
        "<b>Ques_1) What are data structures, and why are they important?</b><br>\n",
        "-> Data structures are specialized formats for storing, organizing, and accessing collections of data data . They provide efficient ways to manage information based on it's characteristics and intended use so it can be accessed and modified efficiently in the computer system.<br> Think of them as containers that hold your data and determine how you can interact with it. Different containers are better suited for different types of items.<br>  \n",
        "\n",
        "<strong>Why Data Structures Matter in Python?</strong><br>\n",
        "<u>Efficient Data Management</u><br>\n",
        "They help to store and organize the data in memory so the program runs faster and uses resources effectively.\n",
        "\n",
        "<u>Better Problem-Solving</u><br>\n",
        "Different problems need different data-structures. Choosing the right structure can significantly impact the efficiency as well as the performance of the program. For example, a list is good for ordered items, while a set is better for uniqueness.\n",
        "\n",
        "<u>Code Simplicity</u><br>\n",
        "Using the right data structure can make our code shorter, easier to understand, and easier to maintain. hence, simplifies Data manipulation, optimize searching and sorting operations as well as conserve memory usage.\n",
        "\n",
        "<u>Foundation for Algorithms</u><br>\n",
        "Many algorithms (like searching, sorting, graph traversal) are built around specific data structures.<br>\n",
        "<br> In Python data structures can be of two types<br>\n",
        "* Built-in data type  (list, tuple, set, dict)<br>\n",
        "* User-defined data type (like classes for linked lists, trees, graphs)<br>\n",
        "\n",
        "\n",
        "\n",
        "<strong>Built-in Data Structures in Python</strong><br>\n",
        "Python has some ready-to-use, high-level data structures:\n",
        "\n",
        "List → Ordered, mutable collection ([1, 2, 3])\n",
        "\n",
        "Tuple → Ordered, immutable collection ((1, 2, 3))\n",
        "\n",
        "Set → Unordered collection with no duplicates ({1, 2, 3})\n",
        "\n",
        "Dictionary → Key-value pairs ({\"name\": \"Nishita\", \"age\": 21})"
      ],
      "metadata": {
        "id": "G0DTEnaWEwAp"
      }
    },
    {
      "cell_type": "markdown",
      "source": [
        "<b> Ques_2) Explain the difference between mutable and immutable data types with examples?</b><br>\n",
        "->1. Firstly, What Does <u>\"Mutable\"</u> and <u>\"Immutable\"</u> even Mean?<br>\n",
        "In Python, everything is treated as an object, whether it’s a number, a string, a list, or even a function.<br>\n",
        "When you create an object, Python stores it somewhere in the memory, and our variable is simply a reference (or name) pointing to that object.\n",
        "\n",
        " <b>Mutable means:<br></b>\n",
        "The user can change or modify the object's content without changing its identity (memory address).<br>\n",
        " <b>Mutable Data Types<br></b>\n",
        "A mutable object lets you change its value in place. You can modify elements, add new ones, or remove existing ones. The object's ID stays the same.\n",
        "\n",
        "Examples of mutable built-in types:<br>\n",
        "-list\n",
        "\n",
        "-dict (dictionary)\n",
        "\n",
        "-set\n",
        "\n",
        "-bytearray<br>  \n",
        "\n",
        "\n",
        "\n",
        "\n",
        "\n",
        "\n",
        "\n",
        "<b>Immutable means:<br></b>\n",
        "Once the object is created, the user cannot change or make any modification in it. Any “change” actually creates a new object with a different memory address.\n",
        "\n",
        "\n",
        "\n",
        "<b> Immutable Data Types:</b><br>\n",
        "An immutable object can't be changed after it's created.\n",
        "If you try to modify it, Python instead makes a new object and your variable now points to that.\n",
        "\n",
        "Examples of immutable built-in types:<br>\n",
        "-int\n",
        "\n",
        "-float\n",
        "\n",
        "-tr\n",
        "\n",
        "-tuple\n",
        "\n",
        "-frozenset\n",
        "\n",
        "-bytes\n",
        "\n",
        "\n",
        "<i> Why Does This Matter in Python?</i><br>\n",
        "* Performance:<br>\n",
        "Changing a mutable object is generally faster than creating a new object each time.\n",
        "\n",
        "* Safety:<br>\n",
        "Immutable objects are safe to use as dictionary keys or in sets because their value won't change and mess up lookups.\n",
        "\n",
        "* Unexpected Side Effects:<br>\n",
        "If multiple variables reference the same mutable object, changing it via one variable will also change it for others — which can might cause bugs."
      ],
      "metadata": {
        "id": "RSMRjgwBNuHH"
      }
    },
    {
      "cell_type": "code",
      "source": [
        "# Mutable object: list\n",
        "numbers = [1, 2, 3]\n",
        "print(\"Before change:\", numbers, \"| id:\", id(numbers))\n",
        "\n",
        "# Change in place\n",
        "numbers.append(4)\n",
        "print(\"After change :\", numbers, \"| id:\", id(numbers))\n",
        "\n",
        "# The id (memory address) stays the same and the object modified in place.\n"
      ],
      "metadata": {
        "colab": {
          "base_uri": "https://localhost:8080/"
        },
        "id": "93ruAu3ZUcdH",
        "outputId": "039f032e-d247-4860-87bf-de33aa4936a4"
      },
      "execution_count": null,
      "outputs": [
        {
          "output_type": "stream",
          "name": "stdout",
          "text": [
            "Before change: [1, 2, 3] | id: 132848773244608\n",
            "After change : [1, 2, 3, 4] | id: 132848773244608\n"
          ]
        }
      ]
    },
    {
      "cell_type": "code",
      "source": [
        "# Immutable object: string\n",
        "name = \"Nishita\"\n",
        "print(\"Before change:\", name, \"| id:\", id(name))\n",
        "\n",
        "# Attempt to change (creates new string)\n",
        "name += \"_Chadha\"\n",
        "print(\"After change :\", name, \"| id:\", id(name))\n",
        "\n",
        "# When tries to change, creates a new object in memory.\n",
        "\n"
      ],
      "metadata": {
        "colab": {
          "base_uri": "https://localhost:8080/"
        },
        "id": "UfG-GYCZU6cR",
        "outputId": "d72666c5-2d56-494d-91c9-55fdfc105a16"
      },
      "execution_count": null,
      "outputs": [
        {
          "output_type": "stream",
          "name": "stdout",
          "text": [
            "Before change: Nishita | id: 132849467359856\n",
            "After change : Nishita_Chadha | id: 132848773020912\n"
          ]
        }
      ]
    },
    {
      "cell_type": "markdown",
      "source": [
        "<b>Ques_3) What are the main differences between lists and tuples in Python?</b><br>\n",
        "->  here's a clear difference between list and tuples in Python.<br>\n",
        "<b> Basic Definition</b><br>\n",
        "\n",
        "\n",
        "<u>List :</u> Ordered, mutable (can be changed after creation) sequence of elements.\n",
        "\n",
        "<u>Tuple :</u> Ordered, immutable (cannot be changed after creation) sequence of elements.\n",
        "\n",
        "<b> * Syntax</b><br>\n",
        "<u>List:</u> Created using square brackets [ ]<br>\n",
        "<i>Example - my_list = [1, 2, 3]</i>\n",
        "\n",
        "<u>Tuple:</u> Created using parentheses ( )<br>\n",
        "\n",
        "<i>Example - my_tuple = (1, 2, 3)</i><br>  \n",
        "\n",
        "\n",
        "<b> * Mutability</b><br>\n",
        "<u>Lists:</u> \"Mutable\" — user can add, remove, or change elements.<br>\n",
        "Code Example:<br>\n",
        "lst = [1, 2, 3]\n",
        "lst[1] = 10  ( Works)\n",
        "\n",
        "<br><u>Tuples:</u> \"Immutable\" — elements cannot be changed after creation.<br>\n",
        "\n",
        "Code Example:<br>\n",
        "tup = (1, 2, 3)<br>\n",
        " t[1] = 10  ( gives an Error: 'tuple' object does not support item assignment)<br>\n",
        "\n",
        "<b>* Performance</b><br>\n",
        "<u>Tuples</u> : tuples are generally faster than lists when accessing elements, because immutability allows Python to optimize storage and access.\n",
        "\n",
        "<u>Lists</u> : lists are slightly slower due to their flexibility.\n",
        "\n",
        "<b>* Memory Usage</b><br>\n",
        "<u>Tuples</u> take less memory compared to lists with the same elements, because they store fixed-size data.\n",
        "<u>lists</u> take more memory compared to tuples with the same elements, because they do not store fixed-size data.\n",
        "\n",
        "<b> * Methods Available</b><br>\n",
        "<u>Lists</u> have many built-in methods like .append(), .remove(), .sort().\n",
        "\n",
        "<u>Tuples</u> have only two methods: .count() and .index().\n",
        "\n",
        "<b> * Use Cases</b><br>\n",
        "<u>Lists</u> : Best for data that needs modification, like a shopping cart or a to-do list.\n",
        "\n",
        "<u>Tuples</u> : Best for fixed data that shouldn't change, like coordinates (x, y) or configuration constants."
      ],
      "metadata": {
        "id": "XylNSzvIWeax"
      }
    },
    {
      "cell_type": "code",
      "source": [
        "# Shopping List (List) - can change\n",
        "shopping_list = [\"Milk\", \"Eggs\", \"Bread\"]\n",
        "shopping_list.append(\"Butter\")  # Adding new item\n",
        "print(\"Updated shopping list:\", shopping_list)\n",
        "#Items can be modified in the list at the same place (memory address remains same)\n",
        "\n",
        "# Coordinates (Tuple) - cannot change\n",
        "coordinates = (28.6139, 77.2090)  # Latitude & Longitude\n",
        "# coordinates[0] = 30.0000  # Not allowed\n",
        "print(\"Coordinates:\", coordinates)\n",
        "#Items can not be modified in tuples.\n"
      ],
      "metadata": {
        "colab": {
          "base_uri": "https://localhost:8080/"
        },
        "id": "-fIdUzAF-MxK",
        "outputId": "8c20389f-345d-4b17-ea7a-3bdc4d1ece0e"
      },
      "execution_count": null,
      "outputs": [
        {
          "output_type": "stream",
          "name": "stdout",
          "text": [
            "Updated shopping list: ['Milk', 'Eggs', 'Bread', 'Butter']\n",
            "Coordinates: (28.6139, 77.209)\n"
          ]
        }
      ]
    },
    {
      "cell_type": "markdown",
      "source": [
        "<b> Ques_4) Describe how dictionaries store data?</b><br>\n",
        "-> <i><u>Firstly What a dictionary is?</i><br></u>\n",
        "A Python dictionary is a mapping of keys to its values.\n",
        "Example:<br>\n",
        "student = {\"name\": \"Nishita\", \"age\": 21, \"course\": \"Python\"}<br>\n",
        "Here:\n",
        "\n",
        "\"name\", \"age\", \"course\" → keys (must be immutable & unique)\n",
        "\n",
        "\"Nishita\", 21, \"Python\" → values (can be of any type)<br>\n",
        "\n",
        "* Each entry has a key and a value.\n",
        "\n",
        "* Keys must be immutable (e.g., strings, numbers, tuples) and unique.\n",
        "\n",
        "* Values can be of any type and can repeat.\n",
        "\n",
        "<i><u> How dictionaries store data (internally) ?</i></u><br>\n",
        "In Python, dictionaries store data in the form of key-value pairs, using an internal structure called a hash table.<br>\n",
        "\n",
        "* Python uses a hash function to convert each key into a hash value (a number).\n",
        "\n",
        "* That hash value decides where the key-value pair is stored in memory (its “bucket” in the hash table).\n",
        "\n",
        "* When you access a value (student[\"name\"]), Python:\n",
        "Hashes the key (\"name\" → some number).\n",
        "\n",
        "* Finds the bucket for that hash value.\n",
        "\n",
        "* Returns the associated value (\"Nishita\").<br>\n",
        "\n",
        "<u>Benefits</u><br>\n",
        "* Very fast lookups →<br> Finding a value by key is usually O(1) time.\n",
        "\n",
        "* No fixed order in older versions, but in Python 3.7+ dictionaries remember the insertion order.<br>\n",
        "<u>Key Points</u>\n",
        "* Deterministic : The same input always produces the same hash value.\n",
        "* Fixed size output : No matter how big your input is, the hash value has a fixed length (like an ID number).\n",
        "* Used for quick lookups : In dictionaries, Python uses the hash value of the key to decide where to store or find the value in memory.\n",
        "* Fast comparisons : Instead of checking the whole key, Python can check its hash value first."
      ],
      "metadata": {
        "id": "BOYzAB4D_kpF"
      }
    },
    {
      "cell_type": "code",
      "source": [
        "print(hash(\"apple\"))\n",
        "print(hash(\"banana\"))\n"
      ],
      "metadata": {
        "colab": {
          "base_uri": "https://localhost:8080/"
        },
        "id": "ll5KW871GVdw",
        "outputId": "28122736-b9b0-4011-daa7-eb00b2c6cc24"
      },
      "execution_count": null,
      "outputs": [
        {
          "output_type": "stream",
          "name": "stdout",
          "text": [
            "3627135462475300566\n",
            "2421603752857227651\n"
          ]
        }
      ]
    },
    {
      "cell_type": "markdown",
      "source": [
        "<b>Ques_5) Why might you use a set instead of a list in Python ?</b><br>\n",
        "-> A list is an ordered, mutable (changeable) collection of elements that can contain duplicates whereas a set is an unordered, mutable collection of unique elements.<br>\n",
        "\n",
        "<b><u> why we might choose a set over a list ?</b></u><br>\n",
        "\n",
        "<b>*1) Sets enforces uniqueness automatically.</b>\n",
        "<br>List: Can hold duplicate values unless you manually check.\n",
        "\n",
        "Set: Automatically removes duplicates during insertion because it uses hashing.Useful when collecting unique IDs, email addresses, tags, etc."
      ],
      "metadata": {
        "id": "vcXfj2enGtll"
      }
    },
    {
      "cell_type": "code",
      "source": [
        "# Here's how sets enforces uniqueness automatically.\n",
        "my_list = [1, 2, 2, 3]\n",
        "my_set = {1, 2, 2, 3}\n",
        "\n",
        "print(my_list)  # [1, 2, 2, 3]\n",
        "print(my_set)   # {1, 2, 3}\n"
      ],
      "metadata": {
        "colab": {
          "base_uri": "https://localhost:8080/"
        },
        "id": "ZgPvIbAQI1o4",
        "outputId": "41e09805-cb85-4b76-a371-86969fd9df52"
      },
      "execution_count": null,
      "outputs": [
        {
          "output_type": "stream",
          "name": "stdout",
          "text": [
            "[1, 2, 2, 3]\n",
            "{1, 2, 3}\n"
          ]
        }
      ]
    },
    {
      "cell_type": "markdown",
      "source": [
        "<b>*2) Fast lookups with Hashing</b>\n",
        "<br>Lists: store elements sequentially → searching means checking each element.\n",
        "\n",
        "Sets use a hash table → searching is almost instant ."
      ],
      "metadata": {
        "id": "OT4XFPpJJTBY"
      }
    },
    {
      "cell_type": "code",
      "source": [
        "my_list = list(range(1_000_000))\n",
        "my_set = set(my_list)\n",
        "\n",
        "# Check if a number exists\n",
        "print(999999 in my_list)  # Slower (sequential search)\n",
        "print(999999 in my_set)   # Faster (hash lookup)\n"
      ],
      "metadata": {
        "colab": {
          "base_uri": "https://localhost:8080/"
        },
        "id": "yzqiBpqqJxst",
        "outputId": "23299a52-ba04-4b71-e30a-c1c98393454f"
      },
      "execution_count": null,
      "outputs": [
        {
          "output_type": "stream",
          "name": "stdout",
          "text": [
            "True\n",
            "True\n"
          ]
        }
      ]
    },
    {
      "cell_type": "markdown",
      "source": [
        "* <b>Built-in set operations: </b>\n",
        "Sets support mathematical operations that lists can't do directly:\n",
        "\n",
        "Union (|) – merge without duplicates\n",
        "\n",
        "Intersection (&) – find common elements\n",
        "\n",
        "Difference (-) – find elements in one set but not the other\n",
        "\n",
        "Symmetric difference (^) – find elements in either set but not both"
      ],
      "metadata": {
        "id": "hvxyxbOvJ4BI"
      }
    },
    {
      "cell_type": "code",
      "source": [
        "a = {1, 2, 3}\n",
        "b = {3, 4, 5}\n",
        "\n",
        "print(a | b)\n",
        "print(a & b)\n",
        "print(a - b)\n",
        "print(a ^ b)\n"
      ],
      "metadata": {
        "colab": {
          "base_uri": "https://localhost:8080/"
        },
        "id": "2z6XoRk9KEIl",
        "outputId": "2ef093f8-1297-42f8-fa4b-5e575abe074c"
      },
      "execution_count": null,
      "outputs": [
        {
          "output_type": "stream",
          "name": "stdout",
          "text": [
            "{1, 2, 3, 4, 5}\n",
            "{3}\n",
            "{1, 2}\n",
            "{1, 2, 4, 5}\n"
          ]
        }
      ]
    },
    {
      "cell_type": "markdown",
      "source": [
        "<b>Ques_6) What is a string in Python, and how is it different from a list?</b><br>-> A <u> String </u> in python is an immutable sequence of characters , whereas a <u>List</u> is a mutable sequence of hetrogeneous data types</b><br>\n",
        "\n",
        "<u><b>How string is different from list?</b></u>\n",
        "\n",
        "\n",
        "A <b>string</b> is a sequence of Unicode characters. Examples: \"hello\", 'Hi'.\n",
        "\n",
        "<b>Immutable:\n",
        "\n",
        "</b>once created you cannot change its characters in place. Any “change” creates a new string.\n",
        "\n",
        "<b>Indexable & sliceable:</b>  \n",
        "\n",
        " you can read characters by index (s[0]) and get substrings (s[1:4]), but assignment s[0] = 'H' raises TypeError.\n",
        "\n",
        "<b>Hashable: </b>\n",
        "\n",
        "strings are hashable, so they can be used as dict keys or members of sets.\n",
        "\n",
        "<b>Text vs bytes:</b>\n",
        "\n",
        " strings are text (Unicode). For raw bytes use b'...', bytes, or bytearray (mutable bytes).\n",
        "\n",
        "Common methods: split(), join(), replace(), lower()/upper(), strip(), find(), format() / f-strings.\n",
        "\n",
        "<u>What is a list?</u><br>\n",
        "A list is an ordered collection that can hold elements of any type: numbers, strings, objects, even other lists: [1, \"a\", [2,3]].\n",
        "\n",
        "<b>Mutable:</b>\n",
        "\n",
        " you can change elements in place: lst[0] = 100, lst.append(x), lst.pop(), lst.sort().\n",
        "\n",
        "<b>Indexable & sliceable:</b>\n",
        "\n",
        " supports lst[i], lst[start:end] (slicing returns a new list).\n",
        "\n",
        "<b>Not hashable:</b>\n",
        "\n",
        " lists cannot be dict keys or put into sets.\n",
        "\n",
        "Common methods: append(), extend(), insert(), remove(), pop(), sort(), reverse()."
      ],
      "metadata": {
        "id": "hr67UgnlKdPu"
      }
    },
    {
      "cell_type": "code",
      "source": [
        "s = \"hello\"\n",
        "# s[0] = \"H\"   # TypeError: can't assign to string index\n",
        "\n",
        "# create new string instead\n",
        "s2 = \"H\" + s[1:]\n",
        "print(s2)  # \"Hello\"\n",
        "\n",
        "lst = [1, 2, 3]\n",
        "lst[0] = 10\n",
        "print(lst)  # [10, 2, 3]\n"
      ],
      "metadata": {
        "colab": {
          "base_uri": "https://localhost:8080/"
        },
        "id": "yEcFa3cSNm8O",
        "outputId": "f765fa3a-1fda-4e0d-83db-f81bce09a214"
      },
      "execution_count": null,
      "outputs": [
        {
          "output_type": "stream",
          "name": "stdout",
          "text": [
            "Hello\n",
            "[10, 2, 3]\n"
          ]
        }
      ]
    },
    {
      "cell_type": "markdown",
      "source": [
        "<b> When to use which?</b><br>\n",
        "* Use <u>string</u> for textual data: Messages, file content, keys, formatted output.<br>\n",
        "\n",
        "* Use <u>list</u> for ordered collections that will modify, sort, append to, or to contain heterogeneous data."
      ],
      "metadata": {
        "id": "1F0pymLgOB9h"
      }
    },
    {
      "cell_type": "markdown",
      "source": [
        "<b>Ques_7) How do tuples ensure data integrity in Python ?</b><br>\n",
        "\n",
        "\n",
        "-> Tuples help to ensure data integrity in python mainly because of its \"immutability\"- once a tuple is created , it's content can not be changed.\n",
        "\n",
        "<h4>Here's the detailed breakdown :</h4><br>\n",
        "\n",
        "<b> Immutability = No accidental changes !</b>\n",
        "* With a list one can accidently overwrite or remove elements.<br>\n",
        "* With a tuple, Python prevents changes after creation, so the data stays exactly as it was.</br>\n",
        "\n",
        "<b> Safe to use as Dict keys.</b><br>\n",
        "\n",
        "* Because tuples are immutable, they are hashable (if all their elements are hashable).\n",
        "\n",
        "* This means they can be used as keys in dictionaries or elements in sets — something lists can't do.<br>\n",
        "\n",
        "<b>Ideal for fixed collections.</b><br>\n",
        "\n",
        "* Tuples are perfect for representing a collection of values that logically belong together and shouldn’t change — e.g., RGB colors, database records, dates.\n",
        "\n",
        "<b> Predictable behavior in functions. </b>\n",
        "* When you pass a list to a function, the function can modify it.\n",
        "\n",
        "* When you pass a tuple, it’s guaranteed the function cannot alter it.<br>\n",
        "\n",
        "<b> In short:<br>\n",
        "Tuples ensure data integrity in Python because it is:</b>\n",
        "\n",
        "Immutable → No accidental modifications.\n",
        "\n",
        "Hashable → Can be safely used as dictionary keys and set elements.\n",
        "\n",
        "Semantics → Signals that the data is fixed and should not change.\n",
        "\n",
        "Safe sharing → Can be passed around without risk of mutation.\n",
        "\n",
        "\n"
      ],
      "metadata": {
        "id": "j_a-YXJdPKAy"
      }
    },
    {
      "cell_type": "code",
      "source": [
        "# Using a list (mutable)\n",
        "user_list = [\"Nishita\", 21, \"Python Developer\"]\n",
        "\n",
        "def update_list(data):\n",
        "    data[1] = 25  # Modifies age\n",
        "    print(\"Inside function (list):\", data)\n",
        "\n",
        "update_list(user_list)\n",
        "print(\"Outside function (list):\", user_list)  # Changed unintentionally\n",
        "\n",
        "\n",
        "# Using a tuple (immutable)\n",
        "user_tuple = (\"Nishita\", 21, \"Python Developer\")\n",
        "\n",
        "def update_tuple(data):\n",
        "    # data[1] = 25  # This will cause TypeError\n",
        "    print(\"Inside function (tuple):\", data)\n",
        "\n",
        "update_tuple(user_tuple)\n",
        "print(\"Outside function (tuple):\", user_tuple)  # Still the same\n"
      ],
      "metadata": {
        "colab": {
          "base_uri": "https://localhost:8080/"
        },
        "id": "pdkQZe3ESfeR",
        "outputId": "200d2caf-c5c3-43a2-ccb3-c3952ed1420d"
      },
      "execution_count": null,
      "outputs": [
        {
          "output_type": "stream",
          "name": "stdout",
          "text": [
            "Inside function (list): ['Nishita', 25, 'Python Developer']\n",
            "Outside function (list): ['Nishita', 25, 'Python Developer']\n",
            "Inside function (tuple): ('Nishita', 21, 'Python Developer')\n",
            "Outside function (tuple): ('Nishita', 21, 'Python Developer')\n"
          ]
        }
      ]
    },
    {
      "cell_type": "markdown",
      "source": [
        "<b>Ques_8) What is a hash table, and how does it relate to dictionaries in Python ?</b><br>\n",
        "-> A <u>hash table</u> is a data structure that stores key-value pairs and uses a hash function to determine where each key-value is stored in the memory.\n",
        "<br> In Python 3, dictionaries (dict) are implemented internally using hash tables — that's why dictionary lookups, insertions, and deletions are very fast on average.\n",
        "\n",
        "<b> How a hash table works: </b><br>\n",
        "\n",
        "* Hash the key - python takes a key and runs it through a hash function to produce a number (hash value) .<br>\n",
        "* Find a bucket - The hash value is used (via modulo operation) to find a position in an internal array (called a “bucket array”).<BR>\n",
        "* Store the pair - The key and it's value is stored together in that bucket.<br>\n",
        "* Retrieve quickly → When you look up a key, Python:\n",
        "\n",
        "-Repeats the hash function.\n",
        "\n",
        "Jumps directly to the right bucket.\n",
        "\n",
        "Compares stored keys to find the exact match.\n",
        "\n",
        "<b> Handling Collisions </b><br>\n",
        "* different keys can sometimes produce same bucket index (collision).\n",
        "* python handles this using <u>open addressing</u> : it searches for the next available slot in the array.<br>\n",
        "* even with collisions, the operations are still usually on time.<br>\n",
        "\n",
        "\n",
        "<b> Why Dictionaries are fast: </b>\n",
        "* because the hash function lets python \"jumps\" directly to where the value should be, rather than searching through all keys.\n",
        "* This makes dictionary lookups much faster than scanning a list.\n"
      ],
      "metadata": {
        "id": "eKgWBG4GSueX"
      }
    },
    {
      "cell_type": "code",
      "source": [
        "Phone_book = {'Alice': '456-123' ,\n",
        "              'Bob' : '789-456' ,\n",
        "              'Charlie' : '101-789'}\n",
        "\n",
        "#lookup\n",
        "print(Phone_book['Alice'])\n",
        "\n",
        "#insert\n",
        "Phone_book['David'] = '234-567'\n",
        "print(Phone_book)\n",
        "\n",
        "#delete\n",
        "del Phone_book['Bob']\n",
        "print(Phone_book)\n"
      ],
      "metadata": {
        "colab": {
          "base_uri": "https://localhost:8080/"
        },
        "id": "wwQXoea1aFeW",
        "outputId": "43ca2304-9d5a-43c9-f6c3-6f2f3d6fee3a"
      },
      "execution_count": null,
      "outputs": [
        {
          "output_type": "stream",
          "name": "stdout",
          "text": [
            "456-123\n",
            "{'Alice': '456-123', 'Bob': '789-456', 'Charlie': '101-789', 'David': '234-567'}\n",
            "{'Alice': '456-123', 'Charlie': '101-789', 'David': '234-567'}\n"
          ]
        }
      ]
    },
    {
      "cell_type": "markdown",
      "source": [
        "So basically, Hash table is an general data structure for storing key-value pairs using hashing."
      ],
      "metadata": {
        "id": "0zz4r0GnbzXU"
      }
    },
    {
      "cell_type": "markdown",
      "source": [
        "<b>Ques_9) Can lists contain different data types in Python ?</b><br>\n",
        "->Yes -- Lists can contain different data types in python.\n",
        "\n",
        "That's because Python lists are <b>heterogeneous containers</b> -- each element is just an reference to an object in memory, and those objects can be of any type .\n"
      ],
      "metadata": {
        "id": "Oe-TmTp_cA43"
      }
    },
    {
      "cell_type": "code",
      "source": [
        "mixed_list = [10, \"Hello\", 3.14, True, [1, 2, 3], {\"name\": \"Nishita\"}]\n",
        "\n",
        "for item in mixed_list:\n",
        "    print(item, \"→\", type(item))\n"
      ],
      "metadata": {
        "colab": {
          "base_uri": "https://localhost:8080/"
        },
        "id": "aNYaaEVdjcJp",
        "outputId": "8d57800f-d554-483d-b0ca-a23c792ce158"
      },
      "execution_count": null,
      "outputs": [
        {
          "output_type": "stream",
          "name": "stdout",
          "text": [
            "10 → <class 'int'>\n",
            "Hello → <class 'str'>\n",
            "3.14 → <class 'float'>\n",
            "True → <class 'bool'>\n",
            "[1, 2, 3] → <class 'list'>\n",
            "{'name': 'Nishita'} → <class 'dict'>\n"
          ]
        }
      ]
    },
    {
      "cell_type": "markdown",
      "source": [
        "<b> Why this works ? </b><br>\n",
        "* A python list doesn't store the values directly like in lower-level languages.\n",
        "* Instead, it stores references (pointers) to object.\n",
        "* Since Python is dynamically typed, those references can point to objects of any type  \n"
      ],
      "metadata": {
        "id": "d2a18YhckYOA"
      }
    },
    {
      "cell_type": "markdown",
      "source": [
        "<b> Ques_10) Explain why strings are immutable in Python ?</b><br>  \n",
        "\n",
        "\n",
        "-> Strings in Python are immutable because once a string object is created, its contents cannot be changed.<br>\n",
        "If we try to modify it, Python will create a new string object instead of altering the original one.<br>\n",
        "<u> Strings are made immutable in python because of the following reasons:</u><br>\n",
        "<b> Efficiency in memory :</b><br>\n",
        "* Python often reuses identical string objects to save memory.\n",
        "\n",
        "* If strings were mutable, changing one could accidentally change all references to it.\n"
      ],
      "metadata": {
        "id": "tLcCj07xlcmc"
      }
    },
    {
      "cell_type": "code",
      "source": [
        "a = \"Hello\"\n",
        "b = \"Hello\"    # Points to same memory as a\n",
        "print(id(a))\n",
        "print(id(b))"
      ],
      "metadata": {
        "colab": {
          "base_uri": "https://localhost:8080/"
        },
        "id": "BlTDNFGgq-5F",
        "outputId": "afdb588c-a752-403c-a5e6-7037523f0da2"
      },
      "execution_count": null,
      "outputs": [
        {
          "output_type": "stream",
          "name": "stdout",
          "text": [
            "132848773249776\n",
            "132848773249776\n"
          ]
        }
      ]
    },
    {
      "cell_type": "markdown",
      "source": [
        "<b> Hashing for Dictionaries and sets: </B><br>\n",
        "* Strings are often used as keys in dictionaries and elements in Sets.\n",
        "* Keys in a hash table must be unchanging to ensure that the hash value stays the same.\n",
        "* If strings could change, dictionary lookups would break.  \n",
        "\n",
        "<br><b>Thread-safety :</b><br>\n",
        "* Because strings can’t change, multiple parts of a program can safely share the same string without worrying about unexpected modifications.\n",
        "\n",
        "<br><b>Simplicity & reliability</b>\n",
        "\n",
        "Immutable objects are easier to reason about and debug since we know they won't be altered unexpectedly.\n",
        "\n"
      ],
      "metadata": {
        "id": "NW4XyfkBrRRz"
      }
    },
    {
      "cell_type": "code",
      "source": [
        "#New object creation\n",
        "name = \"Nishita\"\n",
        "print(id(name))  # Memory address of original string\n",
        "\n",
        "name = name + \"Chadha\"  # Creates a new string object\n",
        "print(id(name))  # Different memory address\n"
      ],
      "metadata": {
        "colab": {
          "base_uri": "https://localhost:8080/"
        },
        "id": "fAnlYGFbsuTw",
        "outputId": "299f08e2-c879-4588-c134-a18c939c633f"
      },
      "execution_count": null,
      "outputs": [
        {
          "output_type": "stream",
          "name": "stdout",
          "text": [
            "132848773154160\n",
            "132848773023984\n"
          ]
        }
      ]
    },
    {
      "cell_type": "markdown",
      "source": [
        "<b>Ques_11) What advantages do dictionaries offer over lists for certain tasks ?</b><br>\n",
        "-> Dictionaries in python offer several advantages over lists for certain tasks mainly when you need fast look-ups using meaningful keys instead of just numeric indexes. <br>\n",
        "\n",
        "Here are some main advantages that python offers while using dictionaries over lists:<br>\n",
        "\n",
        "<b>Fast lookup by key.</b><br>\n",
        "<u>Dictionary : </u> The dictionaries uses a \"Hash-Table\" under the hood (internally),So finding up a value by it's key is very fast - on average constant time.\n",
        "\n",
        "<u>List:</u> To find an item, Python often has to search through the entire list\n",
        "taking more time as compared to dictionaries.<br>\n",
        "\n",
        "Example:\n"
      ],
      "metadata": {
        "id": "l2w-FybwuY7k"
      }
    },
    {
      "cell_type": "code",
      "source": [
        "# Dictionary lookup (fast)\n",
        "phone_book = {\"Alice\": \"555-1234\", \"Bob\": \"555-5678\"}\n",
        "print(phone_book[\"Alice\"])  # provides Instant lookup\n",
        "\n",
        "# List lookup (slow for large lists)\n",
        "contacts = [(\"Alice\", \"555-1234\"), (\"Bob\", \"555-5678\")]\n",
        "for name, number in contacts:\n",
        "    if name == \"Alice\":\n",
        "        print(number)  # Requires looping\n"
      ],
      "metadata": {
        "colab": {
          "base_uri": "https://localhost:8080/"
        },
        "id": "ERpGLu4WrOo2",
        "outputId": "7a2bfe64-8a80-4563-f1e1-a53ea11733c3"
      },
      "execution_count": null,
      "outputs": [
        {
          "output_type": "stream",
          "name": "stdout",
          "text": [
            "555-1234\n",
            "555-1234\n"
          ]
        }
      ]
    },
    {
      "cell_type": "markdown",
      "source": [
        "<b>Meaningful keys instead of Numeric Indexes.</b><br>\n",
        "<u>Dictionary:</u> Keys can be descriptive (\"name\", \"age\", \"email\") instead of just 0, 1, 2 , that doesn't provide any description.\n",
        "\n",
        "<u>List</u>: You must remember positions, which can be harder to read and maintain.\n",
        "\n",
        "Example:"
      ],
      "metadata": {
        "id": "glwhrKfBrdTk"
      }
    },
    {
      "cell_type": "code",
      "source": [
        "person_dict = {\"name\": \"John\", \"age\": 30}\n",
        "# Easy to understand\n",
        "print(person_dict[\"age\"])\n",
        "\n",
        "person_list = [\"John\", 30]\n",
        "# Must remember  what each index mean. like index 1 means age.\n",
        "print(person_list[1])\n"
      ],
      "metadata": {
        "colab": {
          "base_uri": "https://localhost:8080/"
        },
        "id": "fj8s03H1sHKL",
        "outputId": "545ccf2a-4bec-4ef9-e095-7092bb947436"
      },
      "execution_count": null,
      "outputs": [
        {
          "output_type": "stream",
          "name": "stdout",
          "text": [
            "30\n",
            "30\n"
          ]
        }
      ]
    },
    {
      "cell_type": "markdown",
      "source": [],
      "metadata": {
        "id": "uPuTmOWXsgfU"
      }
    },
    {
      "cell_type": "markdown",
      "source": [
        " <b>Easy Updates Without Knowing Position : </b><br>\n",
        " <u> List</u> :  In a list, one must knows the exact index to update or modify any value.\n",
        "\n",
        "<u> Dictionary</u> : In a dictionary, we can directly update any value using it's key, no matter the order.\n",
        "<br> Example :"
      ],
      "metadata": {
        "id": "90R4JQS0s8fP"
      }
    },
    {
      "cell_type": "code",
      "source": [
        "# Dictionary\n",
        "grades = {\"Alice\": 90, \"Bob\": 85}\n",
        "grades[\"Bob\"] = 88  # Direct update\n",
        "\n",
        "# List\n",
        "grades_list = [(\"Alice\", 90), (\"Bob\", 85)]\n",
        "for i, (name, score) in enumerate(grades_list):\n",
        "    if name == \"Bob\":\n",
        "        grades_list[i] = (name, 88)  # More work\n"
      ],
      "metadata": {
        "id": "deyjLAuOt7XK"
      },
      "execution_count": null,
      "outputs": []
    },
    {
      "cell_type": "markdown",
      "source": [
        "<b> Built-in Functions for Key/Value Handling : </b><br>\n",
        "<u>Dictionary</u>- Dictionaries have .keys(), .values(), and .items() methods for quick access to data therefore helps saving time.<br>\n",
        "\n",
        "<u>List</u>- Lists require manual looping and unpacking over the data.\n",
        "\n",
        "<b>Uniqueness of Keys :</b><br>\n",
        "<u>Dictionary</u>- Dictionaries automatically prevent duplicate keys.\n",
        "\n",
        "<u>List</u>- Lists can have duplicate entries unless the user manually check.\n",
        "\n"
      ],
      "metadata": {
        "id": "amh5Y1zuuLZJ"
      }
    },
    {
      "cell_type": "code",
      "source": [
        "# Dictionary will overwrite duplicate keys automatically\n",
        "k = {\"a\": 1, \"a\": 2}  # Only 'a': 2 remains\n"
      ],
      "metadata": {
        "id": "VdScPsuAvq-f"
      },
      "execution_count": null,
      "outputs": []
    },
    {
      "cell_type": "markdown",
      "source": [
        "<b>In short:</b>\n",
        "\n",
        "We can use a dictionary when we need fast lookups, meaningful keys, or non-sequential data storage.\n",
        "\n",
        "we can use a list when the order of elements matters and need to mainly access items by position."
      ],
      "metadata": {
        "id": "croeE3AXwUQK"
      }
    },
    {
      "cell_type": "markdown",
      "source": [
        "<b>Ques_12) Describe a scenario where using a tuple would be preferable over a list ?</b><br>\n",
        "-> A tuple is preferable over a list when the data is stored with the intention that it never changes after creation - esentially making the data \"read-only\".<br>\n",
        "Here are some examples:\n"
      ],
      "metadata": {
        "id": "r7FI70Lgw_xO"
      }
    },
    {
      "cell_type": "code",
      "source": [
        "# Example_1: Days of the week.\n",
        "days = (\"Mon\", \"Tue\", \"Wed\", \"Thu\", \"Fri\", \"Sat\", \"Sun\")\n",
        "\n",
        "# Days of the week never change, so immutability ensures data integrity.\n",
        "# A list would allow accidental modification, which makes no sense here.\n",
        "\n"
      ],
      "metadata": {
        "id": "VqSZ1H47xDw1"
      },
      "execution_count": null,
      "outputs": []
    },
    {
      "cell_type": "code",
      "source": [
        "# Example_2. RGB color values.\n",
        "red = (255, 1, 0)\n",
        "\n",
        "# An RGB triplet should remain fixed once defined.\n",
        "# Tuples keep them safe from any accidental edits.\n"
      ],
      "metadata": {
        "id": "BwQ9IlwGw-kZ"
      },
      "execution_count": null,
      "outputs": []
    },
    {
      "cell_type": "code",
      "source": [
        "# Example_3. File extensions.\n",
        "allowed_extensions = (\".jpg\", \".png\", \".gif\")\n",
        "\n",
        "# The set of allowed formats is fixed and used for validation.\n",
        "# Lists could be changed at runtime by mistake."
      ],
      "metadata": {
        "id": "w_J7ysSQzo4D"
      },
      "execution_count": null,
      "outputs": []
    },
    {
      "cell_type": "code",
      "source": [
        "# Example_4. Fixed menu options.\n",
        "menu_choices = (\"Start\", \"Settings\", \"Exit\")\n",
        "\n",
        "# Prevents accidental addition or removal of menu items."
      ],
      "metadata": {
        "id": "vaVuiA_Pz8-U"
      },
      "execution_count": null,
      "outputs": []
    },
    {
      "cell_type": "code",
      "source": [
        "# Example_5. Month names\n",
        "months = (\"January\", \"February\", \"March\", \"April\", \"May\", \"June\", \"July\", \"August\", \"September\", \"October\", \"November\", \"December\")\n",
        "\n",
        "# Months don’t change order or names."
      ],
      "metadata": {
        "id": "20Ce8qa40Wr5"
      },
      "execution_count": null,
      "outputs": []
    },
    {
      "cell_type": "code",
      "source": [
        "# Example_6. Immutable command shortcuts.\n",
        "shortcuts = (\"Ctrl+C\", \"Ctrl+V\", \"Ctrl+Z\")\n",
        "\n",
        "# Command keys remain constant.\n",
        "\n"
      ],
      "metadata": {
        "id": "nqtEPvZF0mqU"
      },
      "execution_count": null,
      "outputs": []
    },
    {
      "cell_type": "markdown",
      "source": [
        "<u>Key takeaway:</u><br>\n",
        "Tuples are best when:\n",
        "\n",
        "* The collection is fixed in size and meaning\n",
        "\n",
        "* You want protection from modification\n",
        "\n",
        "* You might need to use it as a dictionary key or set element\n",
        "\n",
        "* You want a small performance boost over lists"
      ],
      "metadata": {
        "id": "KjwSGbRf02-t"
      }
    },
    {
      "cell_type": "markdown",
      "source": [
        "<b>Ques_13) How do sets handle duplicate values in Python ?</b><br>\n",
        "-> In Python , a set automatically removes duplicate values.<br>\n",
        "When elements are added to a set, Python stores them in a way that each unique value appears only once, no matter how many times you try to insert it.<br>\n",
        "\n",
        "<b> Here's how it works - </b><br>\n",
        "* Sets are unordered collections of unique elements.\n",
        "\n",
        "* If you insert a value that's already in the set, Python simply ignores that duplicate value.\n",
        "\n",
        "* This is because sets use hashing (like dictionaries) to quickly check if an element is already present or not.\n",
        "\n",
        "<br> Example:\n"
      ],
      "metadata": {
        "id": "WxBfP7ig1KKC"
      }
    },
    {
      "cell_type": "code",
      "source": [
        "nums = {1, 2, 2, 3, 3, 3, 4}\n",
        "print(nums)\n",
        "# Duplicates removed.\n",
        "\n",
        "# Adding duplicates dynamically\n",
        "nums.add(2)\n",
        "nums.add(4)\n",
        "print(numbers)\n",
        "# There will be no change\n"
      ],
      "metadata": {
        "colab": {
          "base_uri": "https://localhost:8080/"
        },
        "id": "KCJlhYmM2m_G",
        "outputId": "cc7e5f54-57e4-4efc-b97f-4b9f6033f0db"
      },
      "execution_count": null,
      "outputs": [
        {
          "output_type": "stream",
          "name": "stdout",
          "text": [
            "{1, 2, 3, 4}\n",
            "[1, 2, 3, 4]\n"
          ]
        }
      ]
    },
    {
      "cell_type": "markdown",
      "source": [
        "<b>Why duplicates are removed automatically ? - </b><br>\n",
        "* Under the hood, Python uses the element's hash value to determine its position in the memory.\n",
        "\n",
        "* If a new element's hash matches the one that already stored, Python checks equality (==).\n",
        "\n",
        "* If they are equal, the element is not added again.\n",
        "\n",
        "<u>Hence, the conclusion</u><br>\n",
        "Sets = No duplicates allowed .\n",
        "\n",
        "Duplicates are silently ignored (without generating no error)\n",
        "\n",
        "Useful for removing duplicates from lists quickly:\n",
        "\n"
      ],
      "metadata": {
        "id": "CxtGjnKP3F22"
      }
    },
    {
      "cell_type": "markdown",
      "source": [
        "<b> Ques_14) How does the “in” keyword work differently for lists and dictionaries ?</b><br>\n",
        "-> The in keyword behaves differently for lists and dictionaries in Python because it checks for different things in each case<br>\n",
        "\n",
        "<b>1. <u>\"in\" with Lists → Value Membership Check:<br></b></u>\n",
        "\n",
        "Example :\n",
        "\n",
        "\n"
      ],
      "metadata": {
        "id": "7rvsLJ6J4TU0"
      }
    },
    {
      "cell_type": "code",
      "source": [
        "my_list = [\"Pen\", \"Fluid\", \"Clutch-pen\", \"Scale\"]\n",
        "\n",
        "x = \"Sharpener\"  # The item we want to check\n",
        "\n",
        "# Using 'in' to check if x is in my_list\n",
        "if x in my_list:\n",
        "    print(f\"{x} is in the list.\")\n",
        "else:\n",
        "    print(f\"{x} is NOT in the list.\")\n"
      ],
      "metadata": {
        "colab": {
          "base_uri": "https://localhost:8080/"
        },
        "outputId": "cd77b8dd-c75e-45fa-ad98-e3a92a18f883",
        "id": "wc2mk6YW9FpY"
      },
      "execution_count": null,
      "outputs": [
        {
          "output_type": "stream",
          "name": "stdout",
          "text": [
            "Sharpener is NOT in the list.\n"
          ]
        }
      ]
    },
    {
      "cell_type": "markdown",
      "source": [
        "Here in this example, When i write \"if x in my_list:\",\n",
        "\n",
        "* Pyhton iterates through the list from index 0 to the end.\n",
        "\n",
        "* Compares each element with x using the == operator.\n",
        "\n",
        "* Stops and returns True as soon as it finds a match otherwise returns False if the loop finishes without finding x.\n",
        "\n",
        "Key points:\n",
        "\n",
        "-> Checks values in the list.\n",
        "\n",
        "-> Order matters for search speed (if the first element matches, search stops).\n",
        "\n",
        "-> Complexity: slower for big lists, because it checks element-by-element.\n",
        "\n",
        "Example:\n"
      ],
      "metadata": {
        "id": "EKwOsop-84Ec"
      }
    },
    {
      "cell_type": "code",
      "source": [
        "fruits = [\"apple\", \"banana\", \"cherry\"]\n",
        "print(\"banana\" in fruits)\n",
        "print(\"grape\" in fruits)"
      ],
      "metadata": {
        "colab": {
          "base_uri": "https://localhost:8080/"
        },
        "id": "OplffXDV-mS-",
        "outputId": "e0f7d5bf-3175-440c-bbd0-c57316ac8163"
      },
      "execution_count": null,
      "outputs": [
        {
          "output_type": "stream",
          "name": "stdout",
          "text": [
            "True\n",
            "False\n"
          ]
        }
      ]
    },
    {
      "cell_type": "markdown",
      "source": [
        "<b>2. <u> in with Dictionaries → Key Membership Check</b></u><br>\n",
        "\n",
        "Example:"
      ],
      "metadata": {
        "id": "upa4-Zh--aXl"
      }
    },
    {
      "cell_type": "code",
      "source": [
        "my_dict = {\n",
        "    \"name\": \"Julia\",\n",
        "    \"age\": 21,\n",
        "    \"city\": \"Una\"\n",
        "}\n",
        "\n",
        "key = \"age\"  # The key we wants to check\n",
        "\n",
        "# Using 'in' to check if the key exists in the dictionary or not.\n",
        "if key in my_dict:\n",
        "    print(f\"Key '{key}' exists in the dictionary.\")\n",
        "else:\n",
        "    print(f\"Key '{key}' does NOT exist in the dictionary.\")\n"
      ],
      "metadata": {
        "id": "cLc66xSD_lK1",
        "colab": {
          "base_uri": "https://localhost:8080/"
        },
        "outputId": "08a21a91-edb9-4965-85b9-abf104754de3"
      },
      "execution_count": null,
      "outputs": [
        {
          "output_type": "stream",
          "name": "stdout",
          "text": [
            "Key 'age' exists in the dictionary.\n"
          ]
        }
      ]
    },
    {
      "cell_type": "markdown",
      "source": [
        "When i write: if key in my_dict:<br>\n",
        "* Python starts calculating the hash value of key.\n",
        "\n",
        "* Uses that hash to find the possible position in the dictionary's hash table.\n",
        "\n",
        "* Checks if a key with the same value (using ==) is there.\n",
        "\n",
        "* Returns True if found, False otherwise.\n",
        "\n",
        "Key points:\n",
        "\n",
        "-> Checks only the keys by default, not the values.\n",
        "\n",
        "-> Average complexity: very fast because of hashing.\n",
        "\n",
        "-> No need to loop through all items — direct jump to possible location.\n",
        "\n",
        "<b>3. Checking Dictionary Values</b><br>\n",
        "* To check values, we must explicitly call .values():\n",
        "* It will return True if the value is present inside dictionary, otherwise it will return False.\n",
        "Example:"
      ],
      "metadata": {
        "id": "Bzf13_Ba_-RX"
      }
    },
    {
      "cell_type": "code",
      "source": [
        "student = {\"name\": \"Alice\", \"age\": 21}\n",
        "print(\"name\" in student) # True if Key exists\n",
        "print(\"Alice\" in student.values())"
      ],
      "metadata": {
        "colab": {
          "base_uri": "https://localhost:8080/"
        },
        "id": "uFkSoPNFBXPk",
        "outputId": "4e3fb17d-9797-4bef-b80c-280057c572da"
      },
      "execution_count": null,
      "outputs": [
        {
          "output_type": "stream",
          "name": "stdout",
          "text": [
            "True\n",
            "True\n"
          ]
        }
      ]
    },
    {
      "cell_type": "markdown",
      "source": [
        "<b>4. Checking Dictionary Items (Key-Value Pairs)</b><br>\n",
        "If we want to check both key and value at once, Here's how we can do it:"
      ],
      "metadata": {
        "id": "Dlgen-fPBtXx"
      }
    },
    {
      "cell_type": "code",
      "source": [
        "student = {\"name\": \"Alice\", \"age\": 21}\n",
        "print((\"name\", \"Alice\") in student.items())\n",
        "# Here, .items() returns key-value tuples, and the 'in' keyword searches through them."
      ],
      "metadata": {
        "colab": {
          "base_uri": "https://localhost:8080/"
        },
        "id": "3FK_aC2wDc8B",
        "outputId": "d9e1e470-2a38-4c50-943e-931dc728d26b"
      },
      "execution_count": null,
      "outputs": [
        {
          "output_type": "stream",
          "name": "stdout",
          "text": [
            "True\n"
          ]
        }
      ]
    },
    {
      "cell_type": "markdown",
      "source": [
        "<b>Ques_14) Can you modify the elements of a tuple? Explain why or why not ?</b><br>\n",
        "-> <u><b>No</b></u> — we cannot modify the elements of a tuple in Python.<br>\n",
        "Tuples are immutable, which means that once they are created, their elements cannot be changed, added, or removed. It will remain the way as it is.<br>\n",
        "\n",
        "<b>Why Tuples Are Immutable?</b>\n",
        "* Design choice: Tuples are meant to store fixed collections of items, like constants, coordinates, or configurations, that need not to be changed often.\n",
        "\n",
        "* Memory efficiency: Because tuples never change in size or content, Python can store them more compactly and access them faster.\n",
        "\n",
        "* Hashability: Immutable objects (like tuples) can be used as keys in dictionaries or stored in sets — mutable objects like lists cannot.<br>\n",
        "\n",
        "Example (Trying to modify a tuple):"
      ],
      "metadata": {
        "id": "nEH1SWfJF2aS"
      }
    },
    {
      "cell_type": "code",
      "source": [
        "my_tuple = (10, 20, 30)\n",
        "my_tuple[1] = 50   # This will throw an error as tuples are Immutable.\n"
      ],
      "metadata": {
        "colab": {
          "base_uri": "https://localhost:8080/",
          "height": 159
        },
        "id": "opHe7qOWG9t7",
        "outputId": "704e7742-e24a-42f3-a5d9-bd9f1f60d2f7"
      },
      "execution_count": null,
      "outputs": [
        {
          "output_type": "error",
          "ename": "TypeError",
          "evalue": "'tuple' object does not support item assignment",
          "traceback": [
            "\u001b[0;31m---------------------------------------------------------------------------\u001b[0m",
            "\u001b[0;31mTypeError\u001b[0m                                 Traceback (most recent call last)",
            "\u001b[0;32m/tmp/ipython-input-1425434759.py\u001b[0m in \u001b[0;36m<cell line: 0>\u001b[0;34m()\u001b[0m\n\u001b[1;32m      1\u001b[0m \u001b[0mmy_tuple\u001b[0m \u001b[0;34m=\u001b[0m \u001b[0;34m(\u001b[0m\u001b[0;36m10\u001b[0m\u001b[0;34m,\u001b[0m \u001b[0;36m20\u001b[0m\u001b[0;34m,\u001b[0m \u001b[0;36m30\u001b[0m\u001b[0;34m)\u001b[0m\u001b[0;34m\u001b[0m\u001b[0;34m\u001b[0m\u001b[0m\n\u001b[0;32m----> 2\u001b[0;31m \u001b[0mmy_tuple\u001b[0m\u001b[0;34m[\u001b[0m\u001b[0;36m1\u001b[0m\u001b[0;34m]\u001b[0m \u001b[0;34m=\u001b[0m \u001b[0;36m50\u001b[0m   \u001b[0;31m# This will throw an error as tuples are Immutable.\u001b[0m\u001b[0;34m\u001b[0m\u001b[0;34m\u001b[0m\u001b[0m\n\u001b[0m",
            "\u001b[0;31mTypeError\u001b[0m: 'tuple' object does not support item assignment"
          ]
        }
      ]
    },
    {
      "cell_type": "markdown",
      "source": [
        "<b> Here's a little twist. </b><br>\n",
        "\n",
        "Now that we already know tuples are Immutable and we can't change the tuple's structure, but what if a tuple contains mutable objects (like lists) inside it?<br>\n",
        "\n",
        "In that case, the mutable object inside that tuple can still be changed.<br>\n",
        "\n",
        "Example:"
      ],
      "metadata": {
        "id": "fOkw1EEaHaAM"
      }
    },
    {
      "cell_type": "code",
      "source": [
        "nested_tuple = (1, [2, 3], 4)\n",
        "nested_tuple[1][0] = 99  # modifying the list inside\n",
        "print(nested_tuple)      # (1, [99, 3], 4)\n",
        "\n",
        "#The contents of that list changed because lists are mutable.\n"
      ],
      "metadata": {
        "id": "esvhthQ5IgJR"
      },
      "execution_count": null,
      "outputs": []
    },
    {
      "cell_type": "markdown",
      "source": [
        "<u>Quick Summary: </u>\n",
        "\n",
        "* No, we cannot modify a tuple's elements directly.\n",
        "\n",
        "* Yes, we can modify the contents of a mutable object stored inside a tuple.\n",
        "\n",
        "This is because tuple immutability means the references inside can’t change, but the objects they refer to might.\n",
        "\n"
      ],
      "metadata": {
        "id": "qh6f4yT0I4i9"
      }
    },
    {
      "cell_type": "markdown",
      "source": [
        "<b>Ques_16) What is a nested dictionary, and give an example of its use case ?</b><br>\n",
        "\n",
        "-> <b> Nested Dictionary:</b><br>\n",
        "\n",
        "A nested dictionary is a dictionary in Python where one or more dictionaries are present as value inside a dictionary itself.\n",
        "\n",
        "It's essentially a dictionary inside a dictionary, allowing us to store data in a hierarchical or multi-level structure.\n",
        "\n",
        "Example #1:"
      ],
      "metadata": {
        "id": "hxMdaVK9JkmX"
      }
    },
    {
      "cell_type": "code",
      "source": [
        "#Nested Dict\n",
        "students = {\n",
        "    101: {\"name\": \"Alice\", \"age\": 21},\n",
        "    102: {\"name\": \"Bob\", \"age\": 22}\n",
        "}\n",
        "\n",
        "print(students[101][\"name\"])\n"
      ],
      "metadata": {
        "id": "Lrd7J750Lnlh"
      },
      "execution_count": null,
      "outputs": []
    },
    {
      "cell_type": "markdown",
      "source": [
        "Example #2: Storing Student Data by ID"
      ],
      "metadata": {
        "id": "jZdO8etPMXJN"
      }
    },
    {
      "cell_type": "code",
      "source": [
        "students = {\n",
        "    101: {\"name\": \"Alice\", \"age\": 21, \"grade\": \"A\"},\n",
        "    102: {\"name\": \"Bob\", \"age\": 22, \"grade\": \"B\"},\n",
        "    103: {\"name\": \"Charlie\", \"age\": 20, \"grade\": \"A\"}\n",
        "}\n",
        "\n",
        "# Accessing Bob's grade\n",
        "print(students[102][\"grade\"])\n"
      ],
      "metadata": {
        "id": "uZAMz4XwL1w5"
      },
      "execution_count": null,
      "outputs": []
    },
    {
      "cell_type": "markdown",
      "source": [
        "<b>It's Use Cases :</b><br>\n",
        "* Library system\n",
        "\n",
        "Outer keys: Categories (Fiction, Science, History)\n",
        "\n",
        "Inner keys: Book titles with details (author, copies)\n",
        "\n",
        "* Company employee records\n",
        "\n",
        "Outer keys: Department names\n",
        "\n",
        "Inner dictionaries: Employees in that department with salary, role, etc.<br>\n",
        "\n",
        "<b>Advantages of nested dictionaries:</b>\n",
        "\n",
        "Organizes data in a hierarchical way.\n",
        "\n",
        "Easy to represent JSON-like structures.\n",
        "\n",
        "Ideal for representing real-world entities with multiple properties."
      ],
      "metadata": {
        "id": "8J1rRklOM5Pm"
      }
    },
    {
      "cell_type": "markdown",
      "source": [
        "<b>Ques_17) Describe the time complexity of accessing elements in a dictionary ?</b><br>\n",
        "-> In Python, accessing elements in a dictionary (example: my_dict[key]) has an average time complexity of O(1) — meaning it takes constant time, regardless of the dictionary's size.<br>\n",
        "\n",
        "<b>What O(1) Means</b><br>\n",
        "* O(1) stands for constant time complexity.<br>\n",
        "* It means: “The time it takes to complete the operation is the same, no matter how big the data set is.”<br>\n",
        "\n",
        "In other words:\n",
        "\n",
        "Whether our dictionary has 10 elements or 10 million elements, accessing an item takes about the same amount of time.<br>\n",
        "\n",
        "<u> Reason why it's O(1) on average</u><br>\n",
        "\n",
        "* Python dictionaries are implemented using a hash table.\n",
        "\n",
        "* When you access an element:\n",
        "1. Python calculates the hash of the key (hash(key)).\n",
        "\n",
        "2. The hash determines the index in the table where the key–value pair should be stored.\n",
        "\n",
        "3. Python jumps directly to that location in memory.\n",
        "\n",
        "4. If there's a collision (two keys with the same hash), Python uses open addressing to find the correct key.\n",
        "\n",
        "Because of this direct indexing, access doesn't depend on the number of items — hence O(1) average.\n",
        "\n",
        "<u>Worst case scenario</u>\n",
        "\n",
        "* Time complexity: O(n)\n",
        "\n",
        "* Happens when: Many keys collide to the same hash bucket.\n",
        "<br>Python must compare multiple keys one by one.\n",
        "\n",
        "* In practice, Python’s hashing and resizing make this very rare.\n",
        "\n",
        "\n",
        "\n",
        "\n"
      ],
      "metadata": {
        "id": "hMK3X4gXNsNe"
      }
    },
    {
      "cell_type": "markdown",
      "source": [
        "<b>Ques_18)  In what situations are lists preferred over dictionaries ?</b><br>\n",
        "-> <u>Lists</u> are preferred over dictionaries when the order of elements is important, when there is a need to iterate through elements sequentially, or when operations like sorting or slicing needs to perform. <br><u>Dictionaries</u> are better when we need to quickly look up values based on unique keys and when order is not a priority.\n",
        "\n",
        "<b>Detailed breakdown<br><u> Lists:</b></u><br>\n",
        "* <u>Ordered data:</u>\n",
        "If the sequence of elements matters and you need to maintain the order in which they are added, lists are the way to go. For example, a list of steps in a recipe or a log of events in chronological order.<br>\n",
        "\n",
        "* <u>Sequential access:</u>\n",
        "When you need to access elements one after another, lists are more efficient. Operations like iterating through the list or using for loops are straightforward with lists.<br>\n",
        "* <u>Modifying elements:</u>\n",
        "Lists are mutable, meaning you can easily change, add, or remove elements. If your data needs to be updated frequently, lists are a good choice.\n",
        "* <u>Slicing and indexing:</u>\n",
        "Lists provide built-in support for slicing (selecting a portion of the list) and indexing (accessing elements by their position), making them convenient for data manipulation.\n",
        "* <u>Known order:</u>\n",
        "When you know the specific order of your data and don't need to look up elements by key, lists are simpler and more efficient in that case.<br>\n",
        "\n",
        "<b><u>When to use Dictionaries:</b></u><br>\n",
        "\n",
        "* <u>Key-value storage:</u>\n",
        "Dictionaries are designed for storing data in key-value pairs. If you need to associate values with unique identifiers, dictionaries are the most efficient way to do it.<br>\n",
        "\n",
        "* <u>Fast lookups:</u> Retrieving a value by its key in a dictionary is very fast (typically O(1) time complexity).In case if you need to frequently look up values based on unique identifiers, dictionaries are much faster as compared to lists.<br>\n",
        "\n",
        "* <u>Unordered data:</u>\n",
        "If the order of the data is not much important, dictionaries are a good choice. Dictionaries do not guarantee any specific order of elements.<br>\n",
        "\n",
        "* <u>Complex data structures:</u> Dictionaries can be nested within lists or other dictionaries, allowing you to create complex data structures for representing more intricate information, according to Stack Overflow.<br>\n",
        "\n",
        "* <u>Mapping data:</u>\n",
        "If there is a need to map one set of data to another, like mapping usernames to the profiles, dictionaries are the perfect fit.<br>\n",
        "\n",
        "\n",
        "In essence, the choice between lists and dictionaries depends on the specific needs. If there is a need to maintain order and require sequential access, lists can be used. If there is a need for fast lookups and key-based access, dictionaries can be used."
      ],
      "metadata": {
        "id": "BHzZQiolWSgB"
      }
    },
    {
      "cell_type": "markdown",
      "source": [
        "<b>Ques_19) Why are dictionaries considered unordered, and how does that affect data retrieval ?</b><br>\n",
        "-> Dictionaries are considered unordered in python due to their underlying implementation as <u>hash tables</u>. Hash table prioritize efficient key based lookups over maintaining the insertion order of elements.<br>\n",
        "\n",
        "<b> Impact on Data Retrieval:</b>\n",
        "\n",
        "<u><b> Order not guranteed (Pre-Python 3.7):</u></b>  In Python versions before 3.7, iterating over a dictionary or printing its contents would not necessarily yield the elements in the order they were inserted. The order could appear arbitrary and even change between different runs of the same program. This meant you could not rely on positional indexing for retrieval, as you would with lists or tuples.<br>\n",
        "\n",
        "<u><b>Insertion Order Preservation (Python 3.7+):</u></b>\n",
        "Starting with Python 3.7, dictionaries do preserve insertion order as an implementation detail. This means that when iterating through a dictionary or print it, the elements will appear in the order they were added. However, it's crucial to understand that this is a side effect of the optimized hash table implementation and not a core feature guaranteeing order like in ordered collections (Lists,Tuples etc). Dictionaries are still primarily designed for fast key-based access, not for sequential access by index. <br>\n",
        "\n",
        "<b><u>No Positional Indexing:</b></u>\n",
        "Regardless of the Python version, dictionaries still do not support integer-based positional indexing like lists do. one cannot access elements using my_dict[0]. Data retrieval is exclusively done using the associated keys, for example, my_dict['key_name'].\n",
        "\n",
        "\n",
        "In summary, while Python dictionaries now preserve insertion order in modern versions, their fundamental design emphasizes fast key-value lookups, and they are not intended to be used as ordered sequences. Data retrieval always relies on keys, not positional indexes."
      ],
      "metadata": {
        "id": "oMJHmKZf1vdi"
      }
    },
    {
      "cell_type": "markdown",
      "source": [
        "<b>Ques_20) Explain the difference between a list and a dictionary in terms of data retrieval.</b><br>\n",
        "-> Here's the core difference between a list and a dictionary when it comes to retrieving data:<br>  \n",
        "\n",
        "* <b> How data is retrieved.</b>"
      ],
      "metadata": {
        "id": "Yi9ss9vk8Ri3"
      }
    },
    {
      "cell_type": "code",
      "source": [
        "| Feature              | **List**                            | **Dictionary**                                  |\n",
        "| -------------------- | ----------------------------------- | ----------------------------------------------- |\n",
        "| **Access method**    | By **index** (position)             | By **key** (label)                              |\n",
        "| **Example**          | 'my_list[2]' → gets the 3rd element | 'my_dict[\"name\"]' → gets the value for \"name\" |\n",
        "| **Order dependency** | Yes — position matters              | No (conceptually unordered; keys matter)        |\n"
      ],
      "metadata": {
        "id": "VXufjc-A87ix"
      },
      "execution_count": null,
      "outputs": []
    },
    {
      "cell_type": "markdown",
      "source": [
        "* <b> Performance</b>\n",
        "\n",
        "<u>List</u>\n",
        "\n",
        "-Accessing (which is done by index) is O(1) (fast).\n",
        "\n",
        "-Searching for a value without knowing its position is O(n) (slow for large lists).\n",
        "\n",
        "<u>Dictionary</u>\n",
        "\n",
        "-Access by key is O(1) (fast), thanks to hashing.\n",
        "\n",
        "-you don't search — instead directly jump to the value using the key.<br>\n",
        "\n",
        "* <b> Analogy</b>\n",
        "\n",
        "<u>List</u> → Like a row of lockers numbered 0, 1, 2… You open a locker by its number.\n",
        "\n",
        "<u>Dictionary</u> → Like a row of lockers with custom labels (“Name”, “Age”, “Email”). You open a locker by its label, not its position."
      ],
      "metadata": {
        "id": "MWwn9ER1_FRs"
      }
    },
    {
      "cell_type": "code",
      "source": [
        "# List retrieval\n",
        "fruits = [\"grapes\", \"apple\", \"banana\", \"cherry\"]\n",
        "print(fruits[2])  # banana (position-based)\n",
        "\n",
        "# Dictionary retrieval\n",
        "person = {\"name\": \"Alice\", \"age\": 25}\n",
        "print(person[\"name\"])  # Alice (key-based)\n"
      ],
      "metadata": {
        "id": "3ed3lUYRAZcO"
      },
      "execution_count": null,
      "outputs": []
    },
    {
      "cell_type": "markdown",
      "source": [
        "# Practical Questions ✈"
      ],
      "metadata": {
        "id": "RDwWsfD0At09"
      }
    },
    {
      "cell_type": "code",
      "source": [
        "#1. Write a code to create a string with your name and print it.\n",
        "name = \"Nishita\"\n",
        "last_name = \"Chadha\"\n",
        "print(f\"Myself {name} {last_name}.\")"
      ],
      "metadata": {
        "id": "rBsryLItA9jL"
      },
      "execution_count": null,
      "outputs": []
    },
    {
      "cell_type": "code",
      "source": [
        "#2. Write a code to find the length of the string \"Hello World\".\n",
        "string = \"Hello World\"\n",
        "print(len(string))"
      ],
      "metadata": {
        "id": "ORSPo1idByqv"
      },
      "execution_count": null,
      "outputs": []
    },
    {
      "cell_type": "code",
      "source": [
        "#3. Write a code to slice the first 3 characters from the string \"Python Programming\".\n",
        "string = \"Python Programming\"\n",
        "print(string[:3])"
      ],
      "metadata": {
        "id": "MJUzF7sZCEFc"
      },
      "execution_count": null,
      "outputs": []
    },
    {
      "cell_type": "code",
      "source": [
        "#4. Write a code to convert the string \"hello\" to uppercase.\n",
        "string = \"hello\"\n",
        "print(string.upper())"
      ],
      "metadata": {
        "id": "1lnp_73YCQOQ"
      },
      "execution_count": null,
      "outputs": []
    },
    {
      "cell_type": "code",
      "source": [
        "#5. Write a code to replace the word \"apple\" with \"orange\" in the string \"I like apple\".\n",
        "string = \"I like apples\"\n",
        "string = string.replace(\"apples\", \"Oranges\")\n",
        "print(string)"
      ],
      "metadata": {
        "id": "VhC4MdPPCfoV"
      },
      "execution_count": null,
      "outputs": []
    },
    {
      "cell_type": "code",
      "source": [
        "#6. Write a code to create a list with numbers 1 to 5 and print it.\n",
        "numbers = [1, 2, 3, 4, 5]\n",
        "print(numbers)\n"
      ],
      "metadata": {
        "id": "QZ4fQrk8C5WL"
      },
      "execution_count": null,
      "outputs": []
    },
    {
      "cell_type": "code",
      "source": [
        "#7. Write a code to append the number 10 to the list [1, 2, 3, 4].\n",
        "numbers = [1, 2, 3, 4]\n",
        "numbers.append(10)\n",
        "print(numbers)"
      ],
      "metadata": {
        "id": "pKyJTVGEDKW4"
      },
      "execution_count": null,
      "outputs": []
    },
    {
      "cell_type": "code",
      "source": [
        "#8. Write a code to remove the number 3 from the list [1, 2, 3, 4, 5].\n",
        "numbers = [1, 2, 3, 4, 5]\n",
        "numbers.remove(3)\n",
        "print(numbers)"
      ],
      "metadata": {
        "id": "1Ogcwsk_Dn0d"
      },
      "execution_count": null,
      "outputs": []
    },
    {
      "cell_type": "code",
      "source": [
        "#9. Write a code to access the second element in the list ['a', 'b', 'c', 'd'].\n",
        "my_list = ['a', 'b', 'c', 'd']\n",
        "print(my_list[1])"
      ],
      "metadata": {
        "id": "5rq6tCKqD9oi"
      },
      "execution_count": null,
      "outputs": []
    },
    {
      "cell_type": "code",
      "source": [
        "#10. Write a code to reverse the list [10, 20, 30, 40, 50].\n",
        "my_list = [10, 20, 30, 40, 50]\n",
        "reversed_list = my_list[::-1]\n",
        "print(reversed_list)"
      ],
      "metadata": {
        "id": "MrtRk22REXcN"
      },
      "execution_count": null,
      "outputs": []
    },
    {
      "cell_type": "code",
      "source": [
        "#11. Write a code to create a tuple with the elements 100, 200, 300 and print it.\n",
        "my_tuple = (100, 200, 300)\n",
        "print(my_tuple)"
      ],
      "metadata": {
        "id": "aKsrp7eEE-PK"
      },
      "execution_count": null,
      "outputs": []
    },
    {
      "cell_type": "code",
      "source": [
        "#12.  Write a code to access the second-to-last element of the tuple ('red', 'green', 'blue', 'yellow').\n",
        "my_tuple = ('red', 'green', 'blue', 'yellow')\n",
        "print(my_tuple[-2])"
      ],
      "metadata": {
        "id": "CkpzJ0HZFtBH"
      },
      "execution_count": null,
      "outputs": []
    },
    {
      "cell_type": "code",
      "source": [
        "#13. Write a code to find the minimum number in the tuple (10, 20, 5, 15).\n",
        "my_tuple = (10, 20, 5, 15)\n",
        "print(min(my_tuple))"
      ],
      "metadata": {
        "id": "FxGT1SpMGAKz"
      },
      "execution_count": null,
      "outputs": []
    },
    {
      "cell_type": "code",
      "source": [
        "#14. Write a code to find the index of the element \"cat\" in the tuple ('dog', 'cat', 'rabbit')\n",
        "my_tuple = ('dog', 'cat', 'rabbit')\n",
        "print(my_tuple.index('cat'))"
      ],
      "metadata": {
        "id": "1SnSq7rUGL2S"
      },
      "execution_count": null,
      "outputs": []
    },
    {
      "cell_type": "code",
      "source": [
        "#15. Write a code to create a tuple containing three different fruits and check if \"kiwi\" is in it.\n",
        "fruits = (\"apple\", \"banana\", \"cherry\")\n",
        "if \"kiwi\" in fruits:\n",
        "    print(\"kiwi is in the tuple\")\n",
        "else:\n",
        "    print(\"kiwi is not in the tuple\")"
      ],
      "metadata": {
        "id": "YWRG9eozGeTh"
      },
      "execution_count": null,
      "outputs": []
    },
    {
      "cell_type": "code",
      "source": [
        "#16. Write a code to create a set with the elements 'a', 'b', 'c' and print it.\n",
        "my_set = {'a', 'b', 'c'}\n",
        "print(my_set)"
      ],
      "metadata": {
        "id": "dunwb4acHQy0"
      },
      "execution_count": null,
      "outputs": []
    },
    {
      "cell_type": "code",
      "source": [
        "#17. Write a code to clear all elements from the set {1, 2, 3, 4, 5}.\n",
        "my_set = {1, 2, 3, 4, 5}\n",
        "my_set.clear()\n",
        "print(my_set)"
      ],
      "metadata": {
        "id": "gnBXd7YAHlWt"
      },
      "execution_count": null,
      "outputs": []
    },
    {
      "cell_type": "code",
      "source": [
        "#18. Write a code to remove the element 4 from the set {1, 2, 3, 4}.\n",
        "my_set = {1, 2, 3, 4}\n",
        "my_set.remove(4)\n",
        "print(my_set)\n"
      ],
      "metadata": {
        "id": "RBuuFakMH7qr"
      },
      "execution_count": null,
      "outputs": []
    },
    {
      "cell_type": "code",
      "source": [
        "#19. Write a code to find the union of two sets {1, 2, 3} and {3, 4, 5}.\n",
        "set_1 = {1, 2, 3}\n",
        "set_2 = {3, 4, 5}\n",
        "union_set = set_1.union(set_2)\n",
        "print(union_set)"
      ],
      "metadata": {
        "id": "UJ2GdFwUIPnc"
      },
      "execution_count": null,
      "outputs": []
    },
    {
      "cell_type": "code",
      "source": [
        "#20. Write a code to find the intersection of two sets {1, 2, 3} and {2, 3, 4}.\n",
        "set_1 = {1, 2, 3}\n",
        "set_2 = {2, 3, 4}\n",
        "intersection_set = set_1.intersection(set_2)\n",
        "print(intersection_set)"
      ],
      "metadata": {
        "id": "i9HKb9ZKI2N6"
      },
      "execution_count": null,
      "outputs": []
    },
    {
      "cell_type": "code",
      "source": [
        "#21  Write a code to create a dictionary with the keys \"name\", \"age\", and \"city\", and print it.\n",
        "my_dict = {\"name\": \"Nishita\", \"age\": 21, \"city\": \"Una\"}\n",
        "print(my_dict)\n"
      ],
      "metadata": {
        "id": "GXVGbK8TJG4z"
      },
      "execution_count": null,
      "outputs": []
    },
    {
      "cell_type": "code",
      "source": [
        "#22. Write a code to add a new key-value pair \"country\": \"USA\" to the dictionary {'name': 'John', 'age': 25}.\n",
        "my_dict = {'name': 'John', 'age': 25}\n",
        "my_dict[\"country\"] = \"USA\"\n",
        "print(my_dict)"
      ],
      "metadata": {
        "id": "TqMEPWBpJeYW"
      },
      "execution_count": null,
      "outputs": []
    },
    {
      "cell_type": "code",
      "source": [
        "#23. Write a code to access the value associated with the key \"name\" in the dictionary {'name': 'Alice', 'age': 30}.\n",
        "my_dict = {'name': 'Alice', 'age': 30}\n",
        "print(my_dict[\"name\"])\n"
      ],
      "metadata": {
        "id": "JhRnPHggJzwj"
      },
      "execution_count": null,
      "outputs": []
    },
    {
      "cell_type": "code",
      "source": [
        "#24. Write a code to remove the key \"age\" from the dictionary {'name': 'Bob', 'age': 22, 'city': 'New York'}.\n",
        "my_dict = {'name': 'Bob', 'age': 22, 'city': 'New York'}\n",
        "del my_dict[\"age\"]\n",
        "print(my_dict)"
      ],
      "metadata": {
        "id": "4vF2aGlbKqMs"
      },
      "execution_count": null,
      "outputs": []
    },
    {
      "cell_type": "code",
      "source": [
        "#25  Write a code to check if the key \"city\" exists in the dictionary {'name': 'Alice', 'city': 'Paris'}.\n",
        "my_dict = {'name': 'Alice', 'city': 'Paris'}\n",
        "if \"city\" in my_dict:\n",
        "    print(\"The key 'city' exists in the dictionary.\")\n",
        "else:\n",
        "    print(\"The key 'city' does not exist in the dictionary.\")\n"
      ],
      "metadata": {
        "id": "_ikXDRXOLDsj"
      },
      "execution_count": null,
      "outputs": []
    },
    {
      "cell_type": "code",
      "source": [
        "#26 Write a code to create a list, a tuple, and a dictionary, and print them all.\n",
        "my_list = [1, 2, 3, 4, 5]\n",
        "my_tuple = (10, 20, 30, 40, 50)\n",
        "my_dict = {\"name\": \"Alice\", \"age\": 21}\n",
        "print(\"List:\", my_list)\n",
        "print(\"Tuple:\", my_tuple)\n",
        "print(\"Dictionary:\", my_dict)"
      ],
      "metadata": {
        "id": "6N_Lx0rzLVUK"
      },
      "execution_count": null,
      "outputs": []
    },
    {
      "cell_type": "code",
      "source": [
        "#27.  Write a code to create a list of 5 random numbers between 1 and 100, sort it in ascending order, and print the result.(replaced)\n",
        "import random\n",
        "random_numbers = [random.randint(1, 100) for _ in range(5)]\n",
        "random_numbers.sort()\n",
        "print(random_numbers)"
      ],
      "metadata": {
        "id": "xU4EHbt9Lj0r"
      },
      "execution_count": null,
      "outputs": []
    },
    {
      "cell_type": "code",
      "source": [
        "#28. Write a code to create a list with strings and print the element at the third index.\n",
        "my_list = [\"apple\", \"banana\", \"cherry\", \"date\", \"elderberry\"]\n",
        "print(my_list[2])"
      ],
      "metadata": {
        "id": "WQz1JGUvMUg4"
      },
      "execution_count": null,
      "outputs": []
    },
    {
      "cell_type": "code",
      "source": [
        "#29. Write a code to combine two dictionaries into one and print the result.\n",
        "dict_1 = {'a': 1, 'b': 2}\n",
        "dict_2 = {'c': 3, 'd': 4}\n",
        "dict_1.update(dict_2)\n",
        "print(dict_1)"
      ],
      "metadata": {
        "id": "4bIaNJq7Mlf3"
      },
      "execution_count": null,
      "outputs": []
    },
    {
      "cell_type": "code",
      "source": [
        "#30. Write a code to convert a list of strings into a set.\n",
        "string_list = [\"apple\", \"banana\", \"cherry\", \"apple\"]\n",
        "string_set = set(string_list)\n",
        "print(string_set)\n",
        "\n"
      ],
      "metadata": {
        "id": "VKZSP-a8N1vP"
      },
      "execution_count": null,
      "outputs": []
    }
  ]
}